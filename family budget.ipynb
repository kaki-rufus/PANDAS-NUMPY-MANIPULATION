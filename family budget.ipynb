{
 "cells": [
  {
   "cell_type": "code",
   "execution_count": 1,
   "id": "f4e19ac9",
   "metadata": {},
   "outputs": [],
   "source": [
    "import pandas as pd\n",
    "import numpy as np\n",
    "import matplotlib.pyplot as plt\n",
    "pd.set_option('display.max_columns', None)"
   ]
  },
  {
   "cell_type": "code",
   "execution_count": 6,
   "id": "2f74f764",
   "metadata": {},
   "outputs": [
    {
     "data": {
      "text/html": [
       "<div>\n",
       "<style scoped>\n",
       "    .dataframe tbody tr th:only-of-type {\n",
       "        vertical-align: middle;\n",
       "    }\n",
       "\n",
       "    .dataframe tbody tr th {\n",
       "        vertical-align: top;\n",
       "    }\n",
       "\n",
       "    .dataframe thead th {\n",
       "        text-align: right;\n",
       "    }\n",
       "</style>\n",
       "<table border=\"1\" class=\"dataframe\">\n",
       "  <thead>\n",
       "    <tr style=\"text-align: right;\">\n",
       "      <th></th>\n",
       "      <th>Month</th>\n",
       "      <th>Income ($)</th>\n",
       "      <th>Rent/Mortgage ($)</th>\n",
       "      <th>Utilities ($)</th>\n",
       "      <th>Groceries ($)</th>\n",
       "      <th>Transportation ($)</th>\n",
       "      <th>Total Expenses ($)</th>\n",
       "    </tr>\n",
       "  </thead>\n",
       "  <tbody>\n",
       "    <tr>\n",
       "      <th>0</th>\n",
       "      <td>January</td>\n",
       "      <td>5005.0</td>\n",
       "      <td>2800.0</td>\n",
       "      <td>310.01</td>\n",
       "      <td>416.06</td>\n",
       "      <td>373.58</td>\n",
       "      <td>3899.65</td>\n",
       "    </tr>\n",
       "    <tr>\n",
       "      <th>1</th>\n",
       "      <td>February</td>\n",
       "      <td>5120.0</td>\n",
       "      <td>2800.0</td>\n",
       "      <td>253.56</td>\n",
       "      <td>329.08</td>\n",
       "      <td>388.55</td>\n",
       "      <td>3771.19</td>\n",
       "    </tr>\n",
       "    <tr>\n",
       "      <th>2</th>\n",
       "      <td>March</td>\n",
       "      <td>4990.0</td>\n",
       "      <td>2800.0</td>\n",
       "      <td>210.81</td>\n",
       "      <td>349.18</td>\n",
       "      <td>301.05</td>\n",
       "      <td>3661.04</td>\n",
       "    </tr>\n",
       "    <tr>\n",
       "      <th>3</th>\n",
       "      <td>April</td>\n",
       "      <td>5600.0</td>\n",
       "      <td>2800.0</td>\n",
       "      <td>240.91</td>\n",
       "      <td>296.82</td>\n",
       "      <td>218.95</td>\n",
       "      <td>3556.68</td>\n",
       "    </tr>\n",
       "    <tr>\n",
       "      <th>4</th>\n",
       "      <td>May</td>\n",
       "      <td>5100.0</td>\n",
       "      <td>2800.0</td>\n",
       "      <td>264.95</td>\n",
       "      <td>430.89</td>\n",
       "      <td>278.11</td>\n",
       "      <td>3773.95</td>\n",
       "    </tr>\n",
       "  </tbody>\n",
       "</table>\n",
       "</div>"
      ],
      "text/plain": [
       "      Month  Income ($)  Rent/Mortgage ($)  Utilities ($)  Groceries ($)  \\\n",
       "0   January      5005.0             2800.0         310.01         416.06   \n",
       "1  February      5120.0             2800.0         253.56         329.08   \n",
       "2     March      4990.0             2800.0         210.81         349.18   \n",
       "3     April      5600.0             2800.0         240.91         296.82   \n",
       "4       May      5100.0             2800.0         264.95         430.89   \n",
       "\n",
       "   Transportation ($)  Total Expenses ($)  \n",
       "0              373.58             3899.65  \n",
       "1              388.55             3771.19  \n",
       "2              301.05             3661.04  \n",
       "3              218.95             3556.68  \n",
       "4              278.11             3773.95  "
      ]
     },
     "execution_count": 6,
     "metadata": {},
     "output_type": "execute_result"
    }
   ],
   "source": [
    "df = pd.read_csv(\"6MW7_family_budget.csv\")\n",
    "df.head()"
   ]
  },
  {
   "cell_type": "code",
   "execution_count": 7,
   "id": "e4f33327",
   "metadata": {},
   "outputs": [],
   "source": [
    "# df['Total Expenses ($)'].idxmax()"
   ]
  },
  {
   "cell_type": "code",
   "execution_count": 3,
   "id": "30c80b11",
   "metadata": {},
   "outputs": [
    {
     "name": "stdout",
     "output_type": "stream",
     "text": [
      "Month with Highest Expenses: November\n",
      "Month with Lowest Expenses: April\n"
     ]
    }
   ],
   "source": [
    "highest_expense_month = df.loc[df['Total Expenses ($)'].idxmax()]\n",
    "lowest_expense_month = df.loc[df['Total Expenses ($)'].idxmin()]\n",
    "print(\"Month with Highest Expenses:\", highest_expense_month['Month'])\n",
    "print(\"Month with Lowest Expenses:\", lowest_expense_month['Month'])"
   ]
  },
  {
   "cell_type": "code",
   "execution_count": 8,
   "id": "dc0e5935",
   "metadata": {},
   "outputs": [
    {
     "name": "stdout",
     "output_type": "stream",
     "text": [
      "        Month  Savings ($)\n",
      "0     January      1105.35\n",
      "1    February      1348.81\n",
      "2       March      1328.96\n",
      "3       April      2043.32\n",
      "4         May      1326.05\n",
      "5        June      1464.60\n",
      "6        July      1074.79\n",
      "7      August      1131.10\n",
      "8   September      1395.99\n",
      "9     October      1497.89\n",
      "10   November      1350.77\n",
      "11   December      1433.95\n"
     ]
    }
   ],
   "source": [
    "df['Savings ($)'] = df['Income ($)'] - df['Total Expenses ($)']\n",
    "print(df[['Month', 'Savings ($)']])"
   ]
  },
  {
   "cell_type": "code",
   "execution_count": null,
   "id": "23261d79",
   "metadata": {},
   "outputs": [],
   "source": []
  }
 ],
 "metadata": {
  "kernelspec": {
   "display_name": "Python 3 (ipykernel)",
   "language": "python",
   "name": "python3"
  },
  "language_info": {
   "codemirror_mode": {
    "name": "ipython",
    "version": 3
   },
   "file_extension": ".py",
   "mimetype": "text/x-python",
   "name": "python",
   "nbconvert_exporter": "python",
   "pygments_lexer": "ipython3",
   "version": "3.11.5"
  }
 },
 "nbformat": 4,
 "nbformat_minor": 5
}
