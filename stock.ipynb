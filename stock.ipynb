{
 "cells": [
  {
   "cell_type": "code",
   "execution_count": 1,
   "id": "feba9177",
   "metadata": {},
   "outputs": [],
   "source": [
    "import pandas as pd\n",
    "import numpy as np"
   ]
  },
  {
   "cell_type": "code",
   "execution_count": 2,
   "id": "59ed152a",
   "metadata": {},
   "outputs": [
    {
     "data": {
      "text/html": [
       "<div>\n",
       "<style scoped>\n",
       "    .dataframe tbody tr th:only-of-type {\n",
       "        vertical-align: middle;\n",
       "    }\n",
       "\n",
       "    .dataframe tbody tr th {\n",
       "        vertical-align: top;\n",
       "    }\n",
       "\n",
       "    .dataframe thead th {\n",
       "        text-align: right;\n",
       "    }\n",
       "</style>\n",
       "<table border=\"1\" class=\"dataframe\">\n",
       "  <thead>\n",
       "    <tr style=\"text-align: right;\">\n",
       "      <th></th>\n",
       "      <th>Date</th>\n",
       "      <th>Open</th>\n",
       "      <th>Close</th>\n",
       "      <th>Low</th>\n",
       "      <th>High</th>\n",
       "      <th>Volume</th>\n",
       "    </tr>\n",
       "  </thead>\n",
       "  <tbody>\n",
       "    <tr>\n",
       "      <th>0</th>\n",
       "      <td>August 17, 2017</td>\n",
       "      <td>USD 122.56</td>\n",
       "      <td>USD 116.95</td>\n",
       "      <td>USD 115.74</td>\n",
       "      <td>USD 125.53</td>\n",
       "      <td>116425.0</td>\n",
       "    </tr>\n",
       "    <tr>\n",
       "      <th>1</th>\n",
       "      <td>August 18, 2017</td>\n",
       "      <td>USD 116.95</td>\n",
       "      <td>USD 118.95</td>\n",
       "      <td>USD 115.07</td>\n",
       "      <td>USD 120.1</td>\n",
       "      <td>113528.0</td>\n",
       "    </tr>\n",
       "    <tr>\n",
       "      <th>2</th>\n",
       "      <td>August 19, 2017</td>\n",
       "      <td>NaN</td>\n",
       "      <td>NaN</td>\n",
       "      <td>NaN</td>\n",
       "      <td>NaN</td>\n",
       "      <td>NaN</td>\n",
       "    </tr>\n",
       "    <tr>\n",
       "      <th>3</th>\n",
       "      <td>August 20, 2017</td>\n",
       "      <td>NaN</td>\n",
       "      <td>NaN</td>\n",
       "      <td>NaN</td>\n",
       "      <td>NaN</td>\n",
       "      <td>NaN</td>\n",
       "    </tr>\n",
       "    <tr>\n",
       "      <th>4</th>\n",
       "      <td>August 21, 2017</td>\n",
       "      <td>USD 118.95</td>\n",
       "      <td>USD 120.46</td>\n",
       "      <td>USD 116.34</td>\n",
       "      <td>USD 123.48</td>\n",
       "      <td>137030.0</td>\n",
       "    </tr>\n",
       "  </tbody>\n",
       "</table>\n",
       "</div>"
      ],
      "text/plain": [
       "              Date        Open       Close         Low        High    Volume\n",
       "0  August 17, 2017  USD 122.56  USD 116.95  USD 115.74  USD 125.53  116425.0\n",
       "1  August 18, 2017  USD 116.95  USD 118.95  USD 115.07   USD 120.1  113528.0\n",
       "2  August 19, 2017         NaN         NaN         NaN         NaN       NaN\n",
       "3  August 20, 2017         NaN         NaN         NaN         NaN       NaN\n",
       "4  August 21, 2017  USD 118.95  USD 120.46  USD 116.34  USD 123.48  137030.0"
      ]
     },
     "execution_count": 2,
     "metadata": {},
     "output_type": "execute_result"
    }
   ],
   "source": [
    "df = pd.read_csv(\"TC4C_stock_data.csv\")\n",
    "df.head()"
   ]
  },
  {
   "cell_type": "code",
   "execution_count": 3,
   "id": "b02efea6",
   "metadata": {},
   "outputs": [
    {
     "data": {
      "text/plain": [
       "(2252, 6)"
      ]
     },
     "execution_count": 3,
     "metadata": {},
     "output_type": "execute_result"
    }
   ],
   "source": [
    "df.shape"
   ]
  },
  {
   "cell_type": "code",
   "execution_count": 4,
   "id": "d74db536",
   "metadata": {},
   "outputs": [
    {
     "name": "stdout",
     "output_type": "stream",
     "text": [
      "<class 'pandas.core.frame.DataFrame'>\n",
      "RangeIndex: 2252 entries, 0 to 2251\n",
      "Data columns (total 6 columns):\n",
      " #   Column  Non-Null Count  Dtype  \n",
      "---  ------  --------------  -----  \n",
      " 0   Date    2252 non-null   object \n",
      " 1   Open    1608 non-null   object \n",
      " 2   Close   1608 non-null   object \n",
      " 3   Low     1608 non-null   object \n",
      " 4   High    1608 non-null   object \n",
      " 5   Volume  1608 non-null   float64\n",
      "dtypes: float64(1), object(5)\n",
      "memory usage: 105.7+ KB\n"
     ]
    }
   ],
   "source": [
    "df.info()"
   ]
  },
  {
   "cell_type": "code",
   "execution_count": 9,
   "id": "a025bc9d",
   "metadata": {},
   "outputs": [
    {
     "name": "stdout",
     "output_type": "stream",
     "text": [
      "Error converting dates in the following rows:\n",
      "Empty DataFrame\n",
      "Columns: [Date, Open, Close, Low, High, Volume]\n",
      "Index: []\n"
     ]
    }
   ],
   "source": [
    "df['Date'] = pd.to_datetime(df['Date'])\n",
    "# except ValueError:\n",
    "error_rows = df[pd.to_datetime(df['Date'], errors='coerce').isna()]\n",
    "print(\"Error converting dates in the following rows:\")\n",
    "print(error_rows)"
   ]
  },
  {
   "cell_type": "code",
   "execution_count": 5,
   "id": "4c527f0a",
   "metadata": {},
   "outputs": [
    {
     "data": {
      "text/html": [
       "<div>\n",
       "<style scoped>\n",
       "    .dataframe tbody tr th:only-of-type {\n",
       "        vertical-align: middle;\n",
       "    }\n",
       "\n",
       "    .dataframe tbody tr th {\n",
       "        vertical-align: top;\n",
       "    }\n",
       "\n",
       "    .dataframe thead th {\n",
       "        text-align: right;\n",
       "    }\n",
       "</style>\n",
       "<table border=\"1\" class=\"dataframe\">\n",
       "  <thead>\n",
       "    <tr style=\"text-align: right;\">\n",
       "      <th></th>\n",
       "      <th>Missing</th>\n",
       "      <th>Percentage</th>\n",
       "    </tr>\n",
       "  </thead>\n",
       "  <tbody>\n",
       "    <tr>\n",
       "      <th>Date</th>\n",
       "      <td>0</td>\n",
       "      <td>0.000000</td>\n",
       "    </tr>\n",
       "    <tr>\n",
       "      <th>Open</th>\n",
       "      <td>644</td>\n",
       "      <td>0.285968</td>\n",
       "    </tr>\n",
       "    <tr>\n",
       "      <th>Close</th>\n",
       "      <td>644</td>\n",
       "      <td>0.285968</td>\n",
       "    </tr>\n",
       "    <tr>\n",
       "      <th>Low</th>\n",
       "      <td>644</td>\n",
       "      <td>0.285968</td>\n",
       "    </tr>\n",
       "    <tr>\n",
       "      <th>High</th>\n",
       "      <td>644</td>\n",
       "      <td>0.285968</td>\n",
       "    </tr>\n",
       "    <tr>\n",
       "      <th>Volume</th>\n",
       "      <td>644</td>\n",
       "      <td>0.285968</td>\n",
       "    </tr>\n",
       "  </tbody>\n",
       "</table>\n",
       "</div>"
      ],
      "text/plain": [
       "        Missing  Percentage\n",
       "Date          0    0.000000\n",
       "Open        644    0.285968\n",
       "Close       644    0.285968\n",
       "Low         644    0.285968\n",
       "High        644    0.285968\n",
       "Volume      644    0.285968"
      ]
     },
     "execution_count": 5,
     "metadata": {},
     "output_type": "execute_result"
    }
   ],
   "source": [
    "# missing data\n",
    "missing_perc = df.isna().sum()/len(df)\n",
    "# print(type(missing_perc))\n",
    "missing = df.isna().sum()\n",
    "missing_data = pd.DataFrame({'Missing' : missing, 'Percentage' : missing_perc})\n",
    "missing_data"
   ]
  },
  {
   "cell_type": "code",
   "execution_count": 6,
   "id": "3c7685f7",
   "metadata": {},
   "outputs": [
    {
     "name": "stdout",
     "output_type": "stream",
     "text": [
      "Number of rows remaining: 1608\n"
     ]
    },
    {
     "data": {
      "text/html": [
       "<div>\n",
       "<style scoped>\n",
       "    .dataframe tbody tr th:only-of-type {\n",
       "        vertical-align: middle;\n",
       "    }\n",
       "\n",
       "    .dataframe tbody tr th {\n",
       "        vertical-align: top;\n",
       "    }\n",
       "\n",
       "    .dataframe thead th {\n",
       "        text-align: right;\n",
       "    }\n",
       "</style>\n",
       "<table border=\"1\" class=\"dataframe\">\n",
       "  <thead>\n",
       "    <tr style=\"text-align: right;\">\n",
       "      <th></th>\n",
       "      <th>Date</th>\n",
       "      <th>Open</th>\n",
       "      <th>Close</th>\n",
       "      <th>Low</th>\n",
       "      <th>High</th>\n",
       "      <th>Volume</th>\n",
       "    </tr>\n",
       "  </thead>\n",
       "  <tbody>\n",
       "    <tr>\n",
       "      <th>0</th>\n",
       "      <td>August 17, 2017</td>\n",
       "      <td>122.56</td>\n",
       "      <td>116.95</td>\n",
       "      <td>115.74</td>\n",
       "      <td>125.53</td>\n",
       "      <td>116425.0</td>\n",
       "    </tr>\n",
       "    <tr>\n",
       "      <th>1</th>\n",
       "      <td>August 18, 2017</td>\n",
       "      <td>116.95</td>\n",
       "      <td>118.95</td>\n",
       "      <td>115.07</td>\n",
       "      <td>120.10</td>\n",
       "      <td>113528.0</td>\n",
       "    </tr>\n",
       "    <tr>\n",
       "      <th>4</th>\n",
       "      <td>August 21, 2017</td>\n",
       "      <td>118.95</td>\n",
       "      <td>120.46</td>\n",
       "      <td>116.34</td>\n",
       "      <td>123.48</td>\n",
       "      <td>137030.0</td>\n",
       "    </tr>\n",
       "    <tr>\n",
       "      <th>5</th>\n",
       "      <td>August 22, 2017</td>\n",
       "      <td>120.46</td>\n",
       "      <td>123.19</td>\n",
       "      <td>119.46</td>\n",
       "      <td>123.99</td>\n",
       "      <td>113922.0</td>\n",
       "    </tr>\n",
       "    <tr>\n",
       "      <th>6</th>\n",
       "      <td>August 23, 2017</td>\n",
       "      <td>123.19</td>\n",
       "      <td>124.47</td>\n",
       "      <td>121.38</td>\n",
       "      <td>128.98</td>\n",
       "      <td>70739.0</td>\n",
       "    </tr>\n",
       "  </tbody>\n",
       "</table>\n",
       "</div>"
      ],
      "text/plain": [
       "              Date    Open   Close     Low    High    Volume\n",
       "0  August 17, 2017  122.56  116.95  115.74  125.53  116425.0\n",
       "1  August 18, 2017  116.95  118.95  115.07  120.10  113528.0\n",
       "4  August 21, 2017  118.95  120.46  116.34  123.48  137030.0\n",
       "5  August 22, 2017  120.46  123.19  119.46  123.99  113922.0\n",
       "6  August 23, 2017  123.19  124.47  121.38  128.98   70739.0"
      ]
     },
     "execution_count": 6,
     "metadata": {},
     "output_type": "execute_result"
    }
   ],
   "source": [
    "# 1. Remove rows with missing values from the dataframe and print the number of rows remaining.\n",
    "df = df.dropna()\n",
    "print(f\"Number of rows remaining: {len(df)}\")\n",
    "\n",
    "# 2. For the `Open`, `Close`, `Low`, and `High` columns, remove the \"USD\" prefix and convert them to numeric types.\n",
    "for col in [\"Open\", \"Close\", \"Low\", \"High\"]:\n",
    "  df[col] = pd.to_numeric(df[col].str.replace(\"USD \", \"\"))\n",
    "\n",
    "# Print the first 5 rows of the dataframe after the conversion.\n",
    "df.head()"
   ]
  },
  {
   "cell_type": "code",
   "execution_count": 7,
   "id": "1bce20c6",
   "metadata": {},
   "outputs": [
    {
     "name": "stdout",
     "output_type": "stream",
     "text": [
      "<class 'pandas.core.frame.DataFrame'>\n",
      "Index: 1608 entries, 0 to 2251\n",
      "Data columns (total 6 columns):\n",
      " #   Column  Non-Null Count  Dtype  \n",
      "---  ------  --------------  -----  \n",
      " 0   Date    1608 non-null   object \n",
      " 1   Open    1608 non-null   float64\n",
      " 2   Close   1608 non-null   float64\n",
      " 3   Low     1608 non-null   float64\n",
      " 4   High    1608 non-null   float64\n",
      " 5   Volume  1608 non-null   float64\n",
      "dtypes: float64(5), object(1)\n",
      "memory usage: 87.9+ KB\n"
     ]
    }
   ],
   "source": [
    "df.info()"
   ]
  },
  {
   "cell_type": "code",
   "execution_count": null,
   "id": "df505308",
   "metadata": {},
   "outputs": [],
   "source": []
  }
 ],
 "metadata": {
  "kernelspec": {
   "display_name": "Python 3 (ipykernel)",
   "language": "python",
   "name": "python3"
  },
  "language_info": {
   "codemirror_mode": {
    "name": "ipython",
    "version": 3
   },
   "file_extension": ".py",
   "mimetype": "text/x-python",
   "name": "python",
   "nbconvert_exporter": "python",
   "pygments_lexer": "ipython3",
   "version": "3.11.5"
  }
 },
 "nbformat": 4,
 "nbformat_minor": 5
}
