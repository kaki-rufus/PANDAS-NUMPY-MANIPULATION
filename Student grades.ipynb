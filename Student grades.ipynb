{
 "cells": [
  {
   "cell_type": "code",
   "execution_count": 1,
   "id": "85c04714",
   "metadata": {},
   "outputs": [],
   "source": [
    "import pandas as pd\n",
    "import numpy as np\n",
    "import matplotlib.pyplot as plt\n",
    "pd.set_option('display.max_columns', None)"
   ]
  },
  {
   "cell_type": "code",
   "execution_count": 2,
   "id": "088a7d72",
   "metadata": {},
   "outputs": [
    {
     "data": {
      "text/html": [
       "<div>\n",
       "<style scoped>\n",
       "    .dataframe tbody tr th:only-of-type {\n",
       "        vertical-align: middle;\n",
       "    }\n",
       "\n",
       "    .dataframe tbody tr th {\n",
       "        vertical-align: top;\n",
       "    }\n",
       "\n",
       "    .dataframe thead th {\n",
       "        text-align: right;\n",
       "    }\n",
       "</style>\n",
       "<table border=\"1\" class=\"dataframe\">\n",
       "  <thead>\n",
       "    <tr style=\"text-align: right;\">\n",
       "      <th></th>\n",
       "      <th>Student</th>\n",
       "      <th>Math (%)</th>\n",
       "      <th>History (%)</th>\n",
       "      <th>French (%)</th>\n",
       "      <th>Science (%)</th>\n",
       "      <th>English (%)</th>\n",
       "    </tr>\n",
       "  </thead>\n",
       "  <tbody>\n",
       "    <tr>\n",
       "      <th>0</th>\n",
       "      <td>Abby</td>\n",
       "      <td>94.4</td>\n",
       "      <td>87.4</td>\n",
       "      <td>87.5</td>\n",
       "      <td>65.7</td>\n",
       "      <td>76.5</td>\n",
       "    </tr>\n",
       "    <tr>\n",
       "      <th>1</th>\n",
       "      <td>Brett</td>\n",
       "      <td>87.5</td>\n",
       "      <td>76.9</td>\n",
       "      <td>76.6</td>\n",
       "      <td>67.7</td>\n",
       "      <td>77.7</td>\n",
       "    </tr>\n",
       "    <tr>\n",
       "      <th>2</th>\n",
       "      <td>Colin</td>\n",
       "      <td>77.9</td>\n",
       "      <td>92.3</td>\n",
       "      <td>67.4</td>\n",
       "      <td>87.4</td>\n",
       "      <td>86.3</td>\n",
       "    </tr>\n",
       "    <tr>\n",
       "      <th>3</th>\n",
       "      <td>David</td>\n",
       "      <td>89.9</td>\n",
       "      <td>64.9</td>\n",
       "      <td>65.2</td>\n",
       "      <td>87.3</td>\n",
       "      <td>98.2</td>\n",
       "    </tr>\n",
       "    <tr>\n",
       "      <th>4</th>\n",
       "      <td>Debbie</td>\n",
       "      <td>87.5</td>\n",
       "      <td>87.5</td>\n",
       "      <td>98.4</td>\n",
       "      <td>97.4</td>\n",
       "      <td>91.1</td>\n",
       "    </tr>\n",
       "  </tbody>\n",
       "</table>\n",
       "</div>"
      ],
      "text/plain": [
       "  Student  Math (%)  History (%)  French (%)  Science (%)  English (%)\n",
       "0    Abby      94.4         87.4        87.5         65.7         76.5\n",
       "1   Brett      87.5         76.9        76.6         67.7         77.7\n",
       "2   Colin      77.9         92.3        67.4         87.4         86.3\n",
       "3   David      89.9         64.9        65.2         87.3         98.2\n",
       "4  Debbie      87.5         87.5        98.4         97.4         91.1"
      ]
     },
     "execution_count": 2,
     "metadata": {},
     "output_type": "execute_result"
    }
   ],
   "source": [
    "df = pd.read_csv(\"7E6D_student_grades.csv\")\n",
    "df.head()"
   ]
  },
  {
   "cell_type": "code",
   "execution_count": 3,
   "id": "20fe9713",
   "metadata": {},
   "outputs": [
    {
     "data": {
      "text/plain": [
       "(19, 6)"
      ]
     },
     "execution_count": 3,
     "metadata": {},
     "output_type": "execute_result"
    }
   ],
   "source": [
    "df.shape"
   ]
  },
  {
   "cell_type": "code",
   "execution_count": 4,
   "id": "2541b8d1",
   "metadata": {},
   "outputs": [
    {
     "name": "stdout",
     "output_type": "stream",
     "text": [
      "<class 'pandas.core.frame.DataFrame'>\n",
      "RangeIndex: 19 entries, 0 to 18\n",
      "Data columns (total 6 columns):\n",
      " #   Column       Non-Null Count  Dtype  \n",
      "---  ------       --------------  -----  \n",
      " 0   Student      19 non-null     object \n",
      " 1   Math (%)     19 non-null     float64\n",
      " 2   History (%)  19 non-null     float64\n",
      " 3   French (%)   19 non-null     float64\n",
      " 4   Science (%)  19 non-null     float64\n",
      " 5   English (%)  19 non-null     float64\n",
      "dtypes: float64(5), object(1)\n",
      "memory usage: 1.0+ KB\n"
     ]
    }
   ],
   "source": [
    "df.info()"
   ]
  },
  {
   "cell_type": "code",
   "execution_count": 5,
   "id": "b362ddfe",
   "metadata": {},
   "outputs": [
    {
     "data": {
      "text/plain": [
       "19"
      ]
     },
     "execution_count": 5,
     "metadata": {},
     "output_type": "execute_result"
    }
   ],
   "source": [
    "df.Student.nunique()"
   ]
  },
  {
   "cell_type": "code",
   "execution_count": 7,
   "id": "fad1c985",
   "metadata": {},
   "outputs": [],
   "source": [
    "# Calculate the total marks for each student\n",
    "df[\"Total Marks\"] = df[[\"Math (%)\", \"History (%)\", \"French (%)\", \"Science (%)\", \"English (%)\"]].sum(axis=1)"
   ]
  },
  {
   "cell_type": "code",
   "execution_count": 8,
   "id": "33bfbfa1",
   "metadata": {},
   "outputs": [
    {
     "data": {
      "text/html": [
       "<div>\n",
       "<style scoped>\n",
       "    .dataframe tbody tr th:only-of-type {\n",
       "        vertical-align: middle;\n",
       "    }\n",
       "\n",
       "    .dataframe tbody tr th {\n",
       "        vertical-align: top;\n",
       "    }\n",
       "\n",
       "    .dataframe thead th {\n",
       "        text-align: right;\n",
       "    }\n",
       "</style>\n",
       "<table border=\"1\" class=\"dataframe\">\n",
       "  <thead>\n",
       "    <tr style=\"text-align: right;\">\n",
       "      <th></th>\n",
       "      <th>Student</th>\n",
       "      <th>Math (%)</th>\n",
       "      <th>History (%)</th>\n",
       "      <th>French (%)</th>\n",
       "      <th>Science (%)</th>\n",
       "      <th>English (%)</th>\n",
       "      <th>Total Marks</th>\n",
       "    </tr>\n",
       "  </thead>\n",
       "  <tbody>\n",
       "    <tr>\n",
       "      <th>0</th>\n",
       "      <td>Abby</td>\n",
       "      <td>94.4</td>\n",
       "      <td>87.4</td>\n",
       "      <td>87.5</td>\n",
       "      <td>65.7</td>\n",
       "      <td>76.5</td>\n",
       "      <td>411.5</td>\n",
       "    </tr>\n",
       "    <tr>\n",
       "      <th>1</th>\n",
       "      <td>Brett</td>\n",
       "      <td>87.5</td>\n",
       "      <td>76.9</td>\n",
       "      <td>76.6</td>\n",
       "      <td>67.7</td>\n",
       "      <td>77.7</td>\n",
       "      <td>386.4</td>\n",
       "    </tr>\n",
       "    <tr>\n",
       "      <th>2</th>\n",
       "      <td>Colin</td>\n",
       "      <td>77.9</td>\n",
       "      <td>92.3</td>\n",
       "      <td>67.4</td>\n",
       "      <td>87.4</td>\n",
       "      <td>86.3</td>\n",
       "      <td>411.3</td>\n",
       "    </tr>\n",
       "    <tr>\n",
       "      <th>3</th>\n",
       "      <td>David</td>\n",
       "      <td>89.9</td>\n",
       "      <td>64.9</td>\n",
       "      <td>65.2</td>\n",
       "      <td>87.3</td>\n",
       "      <td>98.2</td>\n",
       "      <td>405.5</td>\n",
       "    </tr>\n",
       "    <tr>\n",
       "      <th>4</th>\n",
       "      <td>Debbie</td>\n",
       "      <td>87.5</td>\n",
       "      <td>87.5</td>\n",
       "      <td>98.4</td>\n",
       "      <td>97.4</td>\n",
       "      <td>91.1</td>\n",
       "      <td>461.9</td>\n",
       "    </tr>\n",
       "  </tbody>\n",
       "</table>\n",
       "</div>"
      ],
      "text/plain": [
       "  Student  Math (%)  History (%)  French (%)  Science (%)  English (%)  \\\n",
       "0    Abby      94.4         87.4        87.5         65.7         76.5   \n",
       "1   Brett      87.5         76.9        76.6         67.7         77.7   \n",
       "2   Colin      77.9         92.3        67.4         87.4         86.3   \n",
       "3   David      89.9         64.9        65.2         87.3         98.2   \n",
       "4  Debbie      87.5         87.5        98.4         97.4         91.1   \n",
       "\n",
       "   Total Marks  \n",
       "0        411.5  \n",
       "1        386.4  \n",
       "2        411.3  \n",
       "3        405.5  \n",
       "4        461.9  "
      ]
     },
     "execution_count": 8,
     "metadata": {},
     "output_type": "execute_result"
    }
   ],
   "source": [
    "df.head()"
   ]
  }
 ],
 "metadata": {
  "kernelspec": {
   "display_name": "Python 3 (ipykernel)",
   "language": "python",
   "name": "python3"
  },
  "language_info": {
   "codemirror_mode": {
    "name": "ipython",
    "version": 3
   },
   "file_extension": ".py",
   "mimetype": "text/x-python",
   "name": "python",
   "nbconvert_exporter": "python",
   "pygments_lexer": "ipython3",
   "version": "3.11.5"
  }
 },
 "nbformat": 4,
 "nbformat_minor": 5
}
