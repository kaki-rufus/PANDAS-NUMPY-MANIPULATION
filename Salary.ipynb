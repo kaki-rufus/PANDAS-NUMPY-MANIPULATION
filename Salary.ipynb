{
 "cells": [
  {
   "cell_type": "code",
   "execution_count": 1,
   "id": "5963f2fd",
   "metadata": {},
   "outputs": [],
   "source": [
    "import pandas as pd\n",
    "import numpy as np\n",
    "import matplotlib.pyplot as plt"
   ]
  },
  {
   "cell_type": "code",
   "execution_count": 2,
   "id": "35ffe383",
   "metadata": {},
   "outputs": [
    {
     "data": {
      "text/html": [
       "<div>\n",
       "<style scoped>\n",
       "    .dataframe tbody tr th:only-of-type {\n",
       "        vertical-align: middle;\n",
       "    }\n",
       "\n",
       "    .dataframe tbody tr th {\n",
       "        vertical-align: top;\n",
       "    }\n",
       "\n",
       "    .dataframe thead th {\n",
       "        text-align: right;\n",
       "    }\n",
       "</style>\n",
       "<table border=\"1\" class=\"dataframe\">\n",
       "  <thead>\n",
       "    <tr style=\"text-align: right;\">\n",
       "      <th></th>\n",
       "      <th>Name</th>\n",
       "      <th>Year</th>\n",
       "      <th>Salary</th>\n",
       "      <th>Department</th>\n",
       "      <th>Country</th>\n",
       "      <th>Bonus</th>\n",
       "    </tr>\n",
       "  </thead>\n",
       "  <tbody>\n",
       "    <tr>\n",
       "      <th>0</th>\n",
       "      <td>Charlie Brown</td>\n",
       "      <td>2021</td>\n",
       "      <td>$38,000.00</td>\n",
       "      <td>Marketing</td>\n",
       "      <td>United States</td>\n",
       "      <td>$1,900.00</td>\n",
       "    </tr>\n",
       "    <tr>\n",
       "      <th>1</th>\n",
       "      <td>Alice Johnson</td>\n",
       "      <td>2021</td>\n",
       "      <td>$32,000.00</td>\n",
       "      <td>Sales</td>\n",
       "      <td>United States</td>\n",
       "      <td>$1,600.00</td>\n",
       "    </tr>\n",
       "    <tr>\n",
       "      <th>2</th>\n",
       "      <td>Bob Smith</td>\n",
       "      <td>2021</td>\n",
       "      <td>$35,000.00</td>\n",
       "      <td>Engineering</td>\n",
       "      <td>Canada</td>\n",
       "      <td>$1,750.00</td>\n",
       "    </tr>\n",
       "    <tr>\n",
       "      <th>3</th>\n",
       "      <td>Jack Adams</td>\n",
       "      <td>2021</td>\n",
       "      <td>$70,000.00</td>\n",
       "      <td>Engineering</td>\n",
       "      <td>Australia</td>\n",
       "      <td>$3,500.00</td>\n",
       "    </tr>\n",
       "    <tr>\n",
       "      <th>4</th>\n",
       "      <td>Michael Harris</td>\n",
       "      <td>2021</td>\n",
       "      <td>$85,000.00</td>\n",
       "      <td>Operations</td>\n",
       "      <td>United States</td>\n",
       "      <td>$4,250.00</td>\n",
       "    </tr>\n",
       "  </tbody>\n",
       "</table>\n",
       "</div>"
      ],
      "text/plain": [
       "             Name  Year        Salary   Department        Country        Bonus\n",
       "0   Charlie Brown  2021   $38,000.00     Marketing  United States   $1,900.00 \n",
       "1   Alice Johnson  2021   $32,000.00         Sales  United States   $1,600.00 \n",
       "2       Bob Smith  2021   $35,000.00   Engineering         Canada   $1,750.00 \n",
       "3      Jack Adams  2021   $70,000.00   Engineering      Australia   $3,500.00 \n",
       "4  Michael Harris  2021   $85,000.00    Operations  United States   $4,250.00 "
      ]
     },
     "execution_count": 2,
     "metadata": {},
     "output_type": "execute_result"
    }
   ],
   "source": [
    "df = pd.read_csv(\"Copy of 233X_salaries_in_different_countries.csv\")\n",
    "df.head()"
   ]
  },
  {
   "cell_type": "code",
   "execution_count": 3,
   "id": "38a60c6e",
   "metadata": {},
   "outputs": [
    {
     "name": "stdout",
     "output_type": "stream",
     "text": [
      "<class 'pandas.core.frame.DataFrame'>\n",
      "RangeIndex: 34 entries, 0 to 33\n",
      "Data columns (total 6 columns):\n",
      " #   Column      Non-Null Count  Dtype \n",
      "---  ------      --------------  ----- \n",
      " 0   Name        34 non-null     object\n",
      " 1   Year        34 non-null     int64 \n",
      " 2   Salary      34 non-null     object\n",
      " 3   Department  34 non-null     object\n",
      " 4   Country     34 non-null     object\n",
      " 5   Bonus       34 non-null     object\n",
      "dtypes: int64(1), object(5)\n",
      "memory usage: 1.7+ KB\n"
     ]
    }
   ],
   "source": [
    "df.info()"
   ]
  },
  {
   "cell_type": "code",
   "execution_count": 4,
   "id": "25cf58b2",
   "metadata": {},
   "outputs": [
    {
     "data": {
      "text/plain": [
       "(34, 6)"
      ]
     },
     "execution_count": 4,
     "metadata": {},
     "output_type": "execute_result"
    }
   ],
   "source": [
    "df.shape"
   ]
  },
  {
   "cell_type": "code",
   "execution_count": 5,
   "id": "22fdf7de",
   "metadata": {},
   "outputs": [
    {
     "data": {
      "text/html": [
       "<div>\n",
       "<style scoped>\n",
       "    .dataframe tbody tr th:only-of-type {\n",
       "        vertical-align: middle;\n",
       "    }\n",
       "\n",
       "    .dataframe tbody tr th {\n",
       "        vertical-align: top;\n",
       "    }\n",
       "\n",
       "    .dataframe thead th {\n",
       "        text-align: right;\n",
       "    }\n",
       "</style>\n",
       "<table border=\"1\" class=\"dataframe\">\n",
       "  <thead>\n",
       "    <tr style=\"text-align: right;\">\n",
       "      <th></th>\n",
       "      <th>Year</th>\n",
       "    </tr>\n",
       "  </thead>\n",
       "  <tbody>\n",
       "    <tr>\n",
       "      <th>count</th>\n",
       "      <td>34.000000</td>\n",
       "    </tr>\n",
       "    <tr>\n",
       "      <th>mean</th>\n",
       "      <td>2021.558824</td>\n",
       "    </tr>\n",
       "    <tr>\n",
       "      <th>std</th>\n",
       "      <td>0.503995</td>\n",
       "    </tr>\n",
       "    <tr>\n",
       "      <th>min</th>\n",
       "      <td>2021.000000</td>\n",
       "    </tr>\n",
       "    <tr>\n",
       "      <th>25%</th>\n",
       "      <td>2021.000000</td>\n",
       "    </tr>\n",
       "    <tr>\n",
       "      <th>50%</th>\n",
       "      <td>2022.000000</td>\n",
       "    </tr>\n",
       "    <tr>\n",
       "      <th>75%</th>\n",
       "      <td>2022.000000</td>\n",
       "    </tr>\n",
       "    <tr>\n",
       "      <th>max</th>\n",
       "      <td>2022.000000</td>\n",
       "    </tr>\n",
       "  </tbody>\n",
       "</table>\n",
       "</div>"
      ],
      "text/plain": [
       "              Year\n",
       "count    34.000000\n",
       "mean   2021.558824\n",
       "std       0.503995\n",
       "min    2021.000000\n",
       "25%    2021.000000\n",
       "50%    2022.000000\n",
       "75%    2022.000000\n",
       "max    2022.000000"
      ]
     },
     "execution_count": 5,
     "metadata": {},
     "output_type": "execute_result"
    }
   ],
   "source": [
    "df.describe()"
   ]
  },
  {
   "cell_type": "code",
   "execution_count": 6,
   "id": "25419ce4",
   "metadata": {},
   "outputs": [
    {
     "data": {
      "text/plain": [
       "Year\n",
       "2022    19\n",
       "2021    15\n",
       "Name: count, dtype: int64"
      ]
     },
     "execution_count": 6,
     "metadata": {},
     "output_type": "execute_result"
    }
   ],
   "source": [
    "df.Year.value_counts()"
   ]
  },
  {
   "cell_type": "code",
   "execution_count": 7,
   "id": "971bcb30",
   "metadata": {},
   "outputs": [
    {
     "data": {
      "text/plain": [
       "Country\n",
       "United States     6\n",
       "Canada            6\n",
       "Germany           6\n",
       "France            6\n",
       "Australia         5\n",
       "United Kingdom    5\n",
       "Name: count, dtype: int64"
      ]
     },
     "execution_count": 7,
     "metadata": {},
     "output_type": "execute_result"
    }
   ],
   "source": [
    "df.Country.value_counts()"
   ]
  },
  {
   "cell_type": "code",
   "execution_count": 8,
   "id": "9f237c26",
   "metadata": {},
   "outputs": [
    {
     "data": {
      "text/plain": [
       "Department\n",
       "Engineering    7\n",
       "HR             7\n",
       "Sales          6\n",
       "Marketing      5\n",
       "IT             5\n",
       "Operations     4\n",
       "Name: count, dtype: int64"
      ]
     },
     "execution_count": 8,
     "metadata": {},
     "output_type": "execute_result"
    }
   ],
   "source": [
    "df.Department.value_counts()"
   ]
  },
  {
   "cell_type": "code",
   "execution_count": 9,
   "id": "8bf11e22",
   "metadata": {},
   "outputs": [
    {
     "name": "stdout",
     "output_type": "stream",
     "text": [
      "<class 'pandas.core.frame.DataFrame'>\n",
      "RangeIndex: 34 entries, 0 to 33\n",
      "Data columns (total 6 columns):\n",
      " #   Column      Non-Null Count  Dtype \n",
      "---  ------      --------------  ----- \n",
      " 0   Name        34 non-null     object\n",
      " 1   Year        34 non-null     int64 \n",
      " 2   Salary      34 non-null     object\n",
      " 3   Department  34 non-null     object\n",
      " 4   Country     34 non-null     object\n",
      " 5   Bonus       34 non-null     object\n",
      "dtypes: int64(1), object(5)\n",
      "memory usage: 1.7+ KB\n"
     ]
    }
   ],
   "source": [
    "df.info()"
   ]
  },
  {
   "cell_type": "code",
   "execution_count": 10,
   "id": "b3deddd4",
   "metadata": {},
   "outputs": [
    {
     "name": "stdout",
     "output_type": "stream",
     "text": [
      "Outliers in terms of exceptionally low salaries:\n",
      "Empty DataFrame\n",
      "Columns: [Name, Year, Salary]\n",
      "Index: []\n",
      "\n",
      "Outliers in terms of exceptionally high salaries:\n",
      "              Name  Year    Salary\n",
      "14   Natalie Green  2021  255000.0\n",
      "33  Benjamin Clark  2022  240000.0\n"
     ]
    }
   ],
   "source": [
    "# Convert salary columns to numeric type\n",
    "df['Salary'] = df['Salary'].replace('[\\$,]', '', regex=True).astype(float)\n",
    "\n",
    "# Calculate the interquartile range (IQR) for salaries\n",
    "Q1 = df['Salary'].quantile(0.25)\n",
    "Q3 = df['Salary'].quantile(0.75)\n",
    "IQR = Q3 - Q1\n",
    "\n",
    "# Define the lower and upper bounds for outliers\n",
    "lower_bound = Q1 - 1.5 * IQR\n",
    "upper_bound = Q3 + 1.5 * IQR\n",
    "\n",
    "# Identify outliers (salaries beyond the lower and upper bounds)\n",
    "outliers_low = df[df['Salary'] < lower_bound]\n",
    "outliers_high = df[df['Salary'] > upper_bound]\n",
    "\n",
    "print(\"Outliers in terms of exceptionally low salaries:\")\n",
    "print(outliers_low[['Name', 'Year', 'Salary']])\n",
    "\n",
    "print(\"\\nOutliers in terms of exceptionally high salaries:\")\n",
    "print(outliers_high[['Name', 'Year', 'Salary']])"
   ]
  },
  {
   "cell_type": "code",
   "execution_count": 11,
   "id": "46601b87",
   "metadata": {},
   "outputs": [
    {
     "data": {
      "text/html": [
       "<div>\n",
       "<style scoped>\n",
       "    .dataframe tbody tr th:only-of-type {\n",
       "        vertical-align: middle;\n",
       "    }\n",
       "\n",
       "    .dataframe tbody tr th {\n",
       "        vertical-align: top;\n",
       "    }\n",
       "\n",
       "    .dataframe thead th {\n",
       "        text-align: right;\n",
       "    }\n",
       "</style>\n",
       "<table border=\"1\" class=\"dataframe\">\n",
       "  <thead>\n",
       "    <tr style=\"text-align: right;\">\n",
       "      <th></th>\n",
       "      <th>Year</th>\n",
       "      <th>Salary</th>\n",
       "    </tr>\n",
       "  </thead>\n",
       "  <tbody>\n",
       "    <tr>\n",
       "      <th>count</th>\n",
       "      <td>34.000000</td>\n",
       "      <td>34.000000</td>\n",
       "    </tr>\n",
       "    <tr>\n",
       "      <th>mean</th>\n",
       "      <td>2021.558824</td>\n",
       "      <td>103117.647059</td>\n",
       "    </tr>\n",
       "    <tr>\n",
       "      <th>std</th>\n",
       "      <td>0.503995</td>\n",
       "      <td>53322.213636</td>\n",
       "    </tr>\n",
       "    <tr>\n",
       "      <th>min</th>\n",
       "      <td>2021.000000</td>\n",
       "      <td>32000.000000</td>\n",
       "    </tr>\n",
       "    <tr>\n",
       "      <th>25%</th>\n",
       "      <td>2021.000000</td>\n",
       "      <td>65000.000000</td>\n",
       "    </tr>\n",
       "    <tr>\n",
       "      <th>50%</th>\n",
       "      <td>2022.000000</td>\n",
       "      <td>95000.000000</td>\n",
       "    </tr>\n",
       "    <tr>\n",
       "      <th>75%</th>\n",
       "      <td>2022.000000</td>\n",
       "      <td>132500.000000</td>\n",
       "    </tr>\n",
       "    <tr>\n",
       "      <th>max</th>\n",
       "      <td>2022.000000</td>\n",
       "      <td>255000.000000</td>\n",
       "    </tr>\n",
       "  </tbody>\n",
       "</table>\n",
       "</div>"
      ],
      "text/plain": [
       "              Year         Salary\n",
       "count    34.000000      34.000000\n",
       "mean   2021.558824  103117.647059\n",
       "std       0.503995   53322.213636\n",
       "min    2021.000000   32000.000000\n",
       "25%    2021.000000   65000.000000\n",
       "50%    2022.000000   95000.000000\n",
       "75%    2022.000000  132500.000000\n",
       "max    2022.000000  255000.000000"
      ]
     },
     "execution_count": 11,
     "metadata": {},
     "output_type": "execute_result"
    }
   ],
   "source": [
    "df.describe()"
   ]
  },
  {
   "cell_type": "code",
   "execution_count": 12,
   "id": "bd589cec",
   "metadata": {},
   "outputs": [
    {
     "name": "stdout",
     "output_type": "stream",
     "text": [
      "count        34.000000\n",
      "mean     103117.647059\n",
      "std       53322.213636\n",
      "min       32000.000000\n",
      "25%       65000.000000\n",
      "50%       95000.000000\n",
      "75%      132500.000000\n",
      "max      255000.000000\n",
      "Name: Salary, dtype: float64\n"
     ]
    },
    {
     "data": {
      "image/png": "[encoded data removed]",
      "text/plain": [
       "<Figure size 640x480 with 1 Axes>"
      ]
     },
     "metadata": {},
     "output_type": "display_data"
    }
   ],
   "source": [
    "# Clean the 'Bonus' column\n",
    "df['Bonus'] = df['Bonus'].str.replace(',', '').str.replace('$', '')\n",
    "df['Bonus'] = pd.to_numeric(df['Bonus'])\n",
    "\n",
    "# Calculate descriptive statistics for the cleaned 'Salary' column\n",
    "salary_stats = df['Salary'].describe()\n",
    "print(salary_stats)\n",
    "\n",
    "# Create a box plot of the cleaned 'Salary' column\n",
    "plt.boxplot(df['Salary'])\n",
    "plt.title('Box Plot of Salaries')\n",
    "plt.ylabel('Salary')\n",
    "plt.show()"
   ]
  },
  {
   "cell_type": "code",
   "execution_count": 13,
   "id": "ea934ecc",
   "metadata": {},
   "outputs": [
    {
     "name": "stdout",
     "output_type": "stream",
     "text": [
      "              Name  Year    Salary  Department  Country    Bonus\n",
      "14   Natalie Green  2021  255000.0          HR  Germany  12750.0\n",
      "33  Benjamin Clark  2022  240000.0  Operations   Canada  12000.0\n"
     ]
    }
   ],
   "source": [
    "# 1. Calculate the interquartile range (IQR) of the 'Salary' column.\n",
    "Q1 = df['Salary'].quantile(0.25)\n",
    "Q3 = df['Salary'].quantile(0.75)\n",
    "IQR = Q3 - Q1\n",
    "\n",
    "# 2. Calculate the upper outlier threshold\n",
    "upper_threshold = Q3 + 1.5 * IQR\n",
    "\n",
    "# 3. Calculate the lower outlier threshold\n",
    "lower_threshold = Q1 - 1.5 * IQR\n",
    "\n",
    "# 4. Filter the DataFrame and display outlier rows\n",
    "outlier_df = df[(df['Salary'] > upper_threshold) | (df['Salary'] < lower_threshold)]\n",
    "print(outlier_df) "
   ]
  },
  {
   "cell_type": "code",
   "execution_count": 14,
   "id": "c765ee48",
   "metadata": {},
   "outputs": [
    {
     "name": "stdout",
     "output_type": "stream",
     "text": [
      "Total salary expenditure by department:\n",
      "Department\n",
      "Engineering    675000.0\n",
      "HR             799000.0\n",
      "IT             472000.0\n",
      "Marketing      368000.0\n",
      "Operations     560000.0\n",
      "Sales          632000.0\n",
      "Name: Salary, dtype: float64\n",
      "\n",
      "Total salary expenditure by country:\n",
      "Country\n",
      "Australia         367000.0\n",
      "Canada            665000.0\n",
      "France            689000.0\n",
      "Germany           780000.0\n",
      "United Kingdom    535000.0\n",
      "United States     470000.0\n",
      "Name: Salary, dtype: float64\n"
     ]
    }
   ],
   "source": [
    "# Calculate total salary expenditure for each department\n",
    "total_salary_by_department = df.groupby('Department')['Salary'].sum()\n",
    "\n",
    "# Calculate total salary expenditure for each country\n",
    "total_salary_by_country = df.groupby('Country')['Salary'].sum()\n",
    "\n",
    "print(\"Total salary expenditure by department:\")\n",
    "print(total_salary_by_department)\n",
    "\n",
    "print(\"\\nTotal salary expenditure by country:\")\n",
    "print(total_salary_by_country)"
   ]
  },
  {
   "cell_type": "code",
   "execution_count": null,
   "id": "a874db7e",
   "metadata": {},
   "outputs": [],
   "source": []
  }
 ],
 "metadata": {
  "kernelspec": {
   "display_name": "Python 3 (ipykernel)",
   "language": "python",
   "name": "python3"
  },
  "language_info": {
   "codemirror_mode": {
    "name": "ipython",
    "version": 3
   },
   "file_extension": ".py",
   "mimetype": "text/x-python",
   "name": "python",
   "nbconvert_exporter": "python",
   "pygments_lexer": "ipython3",
   "version": "3.11.5"
  }
 },
 "nbformat": 4,
 "nbformat_minor": 5
}
