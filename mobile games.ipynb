{
 "cells": [
  {
   "cell_type": "code",
   "execution_count": 1,
   "id": "4b3ac786",
   "metadata": {},
   "outputs": [],
   "source": [
    "import pandas as pd\n",
    "import numpy as np"
   ]
  },
  {
   "cell_type": "code",
   "execution_count": 2,
   "id": "c4b93a33",
   "metadata": {},
   "outputs": [
    {
     "data": {
      "text/html": [
       "<div>\n",
       "<style scoped>\n",
       "    .dataframe tbody tr th:only-of-type {\n",
       "        vertical-align: middle;\n",
       "    }\n",
       "\n",
       "    .dataframe tbody tr th {\n",
       "        vertical-align: top;\n",
       "    }\n",
       "\n",
       "    .dataframe thead th {\n",
       "        text-align: right;\n",
       "    }\n",
       "</style>\n",
       "<table border=\"1\" class=\"dataframe\">\n",
       "  <thead>\n",
       "    <tr style=\"text-align: right;\">\n",
       "      <th></th>\n",
       "      <th>app_names</th>\n",
       "      <th>publishers</th>\n",
       "      <th>release_date</th>\n",
       "      <th>rating</th>\n",
       "      <th>num_reviews</th>\n",
       "      <th>installs</th>\n",
       "      <th>daily_users</th>\n",
       "      <th>monthly_users</th>\n",
       "      <th>avg_session_time</th>\n",
       "      <th>monthly_revenue</th>\n",
       "      <th>total_revenue</th>\n",
       "      <th>avg_revenue_per_user</th>\n",
       "    </tr>\n",
       "  </thead>\n",
       "  <tbody>\n",
       "    <tr>\n",
       "      <th>0</th>\n",
       "      <td>Zombie Tokyo</td>\n",
       "      <td>GY Games</td>\n",
       "      <td>12-08-2018</td>\n",
       "      <td>3.9</td>\n",
       "      <td>153.25</td>\n",
       "      <td>2.12</td>\n",
       "      <td>NaN</td>\n",
       "      <td>400.0</td>\n",
       "      <td>-90.0</td>\n",
       "      <td>NaN</td>\n",
       "      <td>45.0</td>\n",
       "      <td>-5000.0</td>\n",
       "    </tr>\n",
       "    <tr>\n",
       "      <th>1</th>\n",
       "      <td>Paladinia</td>\n",
       "      <td>VisiSoft</td>\n",
       "      <td>05-12-2021</td>\n",
       "      <td>4.1</td>\n",
       "      <td>NaN</td>\n",
       "      <td>1.45</td>\n",
       "      <td>112.5</td>\n",
       "      <td>550.0</td>\n",
       "      <td>115.0</td>\n",
       "      <td>1.20</td>\n",
       "      <td>65.0</td>\n",
       "      <td>NaN</td>\n",
       "    </tr>\n",
       "    <tr>\n",
       "      <th>2</th>\n",
       "      <td>Corn Kingdoms</td>\n",
       "      <td>GY Games</td>\n",
       "      <td>01-08-2019</td>\n",
       "      <td>3.8</td>\n",
       "      <td>56.35</td>\n",
       "      <td>3.45</td>\n",
       "      <td>225.0</td>\n",
       "      <td>850.0</td>\n",
       "      <td>35.0</td>\n",
       "      <td>3.20</td>\n",
       "      <td>120.0</td>\n",
       "      <td>45.0</td>\n",
       "    </tr>\n",
       "    <tr>\n",
       "      <th>3</th>\n",
       "      <td>Mistveiled</td>\n",
       "      <td>Kotaru</td>\n",
       "      <td>NaN</td>\n",
       "      <td>4.5</td>\n",
       "      <td>NaN</td>\n",
       "      <td>2.45</td>\n",
       "      <td>75.0</td>\n",
       "      <td>NaN</td>\n",
       "      <td>70.0</td>\n",
       "      <td>0.60</td>\n",
       "      <td>18.0</td>\n",
       "      <td>8.0</td>\n",
       "    </tr>\n",
       "    <tr>\n",
       "      <th>4</th>\n",
       "      <td>Sakura Nights</td>\n",
       "      <td>VisiSoft</td>\n",
       "      <td>12-15-2015</td>\n",
       "      <td>4.8</td>\n",
       "      <td>230.02</td>\n",
       "      <td>1.35</td>\n",
       "      <td>185.0</td>\n",
       "      <td>375.0</td>\n",
       "      <td>50.0</td>\n",
       "      <td>2.40</td>\n",
       "      <td>325.0</td>\n",
       "      <td>125.0</td>\n",
       "    </tr>\n",
       "    <tr>\n",
       "      <th>5</th>\n",
       "      <td>Pixel Tower</td>\n",
       "      <td>MvDev</td>\n",
       "      <td>07-10-2018</td>\n",
       "      <td>NaN</td>\n",
       "      <td>90.40</td>\n",
       "      <td>0.65</td>\n",
       "      <td>50.0</td>\n",
       "      <td>150.0</td>\n",
       "      <td>25.0</td>\n",
       "      <td>0.30</td>\n",
       "      <td>80.0</td>\n",
       "      <td>5.0</td>\n",
       "    </tr>\n",
       "    <tr>\n",
       "      <th>6</th>\n",
       "      <td>Aether Castles</td>\n",
       "      <td>NaN</td>\n",
       "      <td>NaN</td>\n",
       "      <td>3.7</td>\n",
       "      <td>56.40</td>\n",
       "      <td>1.75</td>\n",
       "      <td>105.0</td>\n",
       "      <td>NaN</td>\n",
       "      <td>NaN</td>\n",
       "      <td>0.65</td>\n",
       "      <td>NaN</td>\n",
       "      <td>16.0</td>\n",
       "    </tr>\n",
       "    <tr>\n",
       "      <th>7</th>\n",
       "      <td>Sands of Time</td>\n",
       "      <td>Kotaru</td>\n",
       "      <td>01-20-2022</td>\n",
       "      <td>4.2</td>\n",
       "      <td>13.25</td>\n",
       "      <td>0.28</td>\n",
       "      <td>NaN</td>\n",
       "      <td>85.0</td>\n",
       "      <td>55.0</td>\n",
       "      <td>0.50</td>\n",
       "      <td>13.0</td>\n",
       "      <td>NaN</td>\n",
       "    </tr>\n",
       "  </tbody>\n",
       "</table>\n",
       "</div>"
      ],
      "text/plain": [
       "         app_names publishers release_date  rating  num_reviews  installs  \\\n",
       "0     Zombie Tokyo   GY Games   12-08-2018     3.9       153.25      2.12   \n",
       "1        Paladinia   VisiSoft   05-12-2021     4.1          NaN      1.45   \n",
       "2    Corn Kingdoms   GY Games   01-08-2019     3.8        56.35      3.45   \n",
       "3       Mistveiled     Kotaru          NaN     4.5          NaN      2.45   \n",
       "4    Sakura Nights   VisiSoft   12-15-2015     4.8       230.02      1.35   \n",
       "5      Pixel Tower      MvDev   07-10-2018     NaN        90.40      0.65   \n",
       "6   Aether Castles        NaN          NaN     3.7        56.40      1.75   \n",
       "7    Sands of Time     Kotaru   01-20-2022     4.2        13.25      0.28   \n",
       "\n",
       "   daily_users  monthly_users  avg_session_time  monthly_revenue  \\\n",
       "0          NaN          400.0             -90.0              NaN   \n",
       "1        112.5          550.0             115.0             1.20   \n",
       "2        225.0          850.0              35.0             3.20   \n",
       "3         75.0            NaN              70.0             0.60   \n",
       "4        185.0          375.0              50.0             2.40   \n",
       "5         50.0          150.0              25.0             0.30   \n",
       "6        105.0            NaN               NaN             0.65   \n",
       "7          NaN           85.0              55.0             0.50   \n",
       "\n",
       "   total_revenue  avg_revenue_per_user  \n",
       "0           45.0               -5000.0  \n",
       "1           65.0                   NaN  \n",
       "2          120.0                  45.0  \n",
       "3           18.0                   8.0  \n",
       "4          325.0                 125.0  \n",
       "5           80.0                   5.0  \n",
       "6            NaN                  16.0  \n",
       "7           13.0                   NaN  "
      ]
     },
     "execution_count": 2,
     "metadata": {},
     "output_type": "execute_result"
    }
   ],
   "source": [
    "df = pd.read_csv(\"X89N_mobilegames.csv\")\n",
    "df"
   ]
  },
  {
   "cell_type": "code",
   "execution_count": 3,
   "id": "7ff9888c",
   "metadata": {},
   "outputs": [
    {
     "data": {
      "text/plain": [
       "app_names\n",
       "Zombie Tokyo       1\n",
       "Paladinia          1\n",
       "Corn Kingdoms      1\n",
       "Mistveiled         1\n",
       "Sakura Nights      1\n",
       "Pixel Tower        1\n",
       " Aether Castles    1\n",
       " Sands of Time     1\n",
       "Name: count, dtype: int64"
      ]
     },
     "execution_count": 3,
     "metadata": {},
     "output_type": "execute_result"
    }
   ],
   "source": [
    "df['app_names'].value_counts()"
   ]
  },
  {
   "cell_type": "code",
   "execution_count": 4,
   "id": "ebbdf133",
   "metadata": {},
   "outputs": [
    {
     "data": {
      "text/plain": [
       "app_names\n",
       "Sakura Nights      4.8\n",
       "Mistveiled         4.5\n",
       " Sands of Time     4.2\n",
       "Paladinia          4.1\n",
       "Zombie Tokyo       3.9\n",
       "Corn Kingdoms      3.8\n",
       " Aether Castles    3.7\n",
       "Pixel Tower        NaN\n",
       "Name: rating, dtype: float64"
      ]
     },
     "execution_count": 4,
     "metadata": {},
     "output_type": "execute_result"
    }
   ],
   "source": [
    "df.groupby('app_names')['rating'].max().sort_values(ascending=False)"
   ]
  },
  {
   "cell_type": "code",
   "execution_count": null,
   "id": "0407a4bd",
   "metadata": {},
   "outputs": [],
   "source": []
  },
  {
   "cell_type": "code",
   "execution_count": 5,
   "id": "59b9a940",
   "metadata": {},
   "outputs": [
    {
     "data": {
      "text/plain": [
       "0"
      ]
     },
     "execution_count": 5,
     "metadata": {},
     "output_type": "execute_result"
    }
   ],
   "source": [
    "df.duplicated().sum()"
   ]
  },
  {
   "cell_type": "code",
   "execution_count": 6,
   "id": "5957650d",
   "metadata": {},
   "outputs": [
    {
     "name": "stdout",
     "output_type": "stream",
     "text": [
      "<class 'pandas.core.frame.DataFrame'>\n",
      "RangeIndex: 8 entries, 0 to 7\n",
      "Data columns (total 12 columns):\n",
      " #   Column                Non-Null Count  Dtype  \n",
      "---  ------                --------------  -----  \n",
      " 0   app_names             8 non-null      object \n",
      " 1   publishers            7 non-null      object \n",
      " 2   release_date          6 non-null      object \n",
      " 3   rating                7 non-null      float64\n",
      " 4   num_reviews           6 non-null      float64\n",
      " 5   installs              8 non-null      float64\n",
      " 6   daily_users           6 non-null      float64\n",
      " 7   monthly_users         6 non-null      float64\n",
      " 8   avg_session_time      7 non-null      float64\n",
      " 9   monthly_revenue       7 non-null      float64\n",
      " 10  total_revenue         7 non-null      float64\n",
      " 11  avg_revenue_per_user  6 non-null      float64\n",
      "dtypes: float64(9), object(3)\n",
      "memory usage: 900.0+ bytes\n"
     ]
    }
   ],
   "source": [
    "df.info()"
   ]
  },
  {
   "cell_type": "code",
   "execution_count": 7,
   "id": "7b38e963",
   "metadata": {},
   "outputs": [
    {
     "data": {
      "text/plain": [
       "(8, 12)"
      ]
     },
     "execution_count": 7,
     "metadata": {},
     "output_type": "execute_result"
    }
   ],
   "source": [
    "df.shape"
   ]
  },
  {
   "cell_type": "code",
   "execution_count": 8,
   "id": "187455ef",
   "metadata": {},
   "outputs": [
    {
     "data": {
      "text/plain": [
       "app_names                0.0\n",
       "publishers              12.5\n",
       "release_date            25.0\n",
       "rating                  12.5\n",
       "num_reviews             25.0\n",
       "installs                 0.0\n",
       "daily_users             25.0\n",
       "monthly_users           25.0\n",
       "avg_session_time        12.5\n",
       "monthly_revenue         12.5\n",
       "total_revenue           12.5\n",
       "avg_revenue_per_user    25.0\n",
       "dtype: float64"
      ]
     },
     "execution_count": 8,
     "metadata": {},
     "output_type": "execute_result"
    }
   ],
   "source": [
    "df.isna().mean() * 100"
   ]
  },
  {
   "cell_type": "code",
   "execution_count": 9,
   "id": "e3c05a2b",
   "metadata": {},
   "outputs": [],
   "source": [
    "# Convert 'release_date' to datetime format\n",
    "df['release_date'] = pd.to_datetime(df['release_date'], errors='coerce')"
   ]
  },
  {
   "cell_type": "code",
   "execution_count": 10,
   "id": "796bd78d",
   "metadata": {},
   "outputs": [
    {
     "data": {
      "text/plain": [
       "app_names                0.0\n",
       "publishers              12.5\n",
       "release_date             0.0\n",
       "rating                  12.5\n",
       "num_reviews              0.0\n",
       "installs                 0.0\n",
       "daily_users             25.0\n",
       "monthly_users            0.0\n",
       "avg_session_time        12.5\n",
       "monthly_revenue         12.5\n",
       "total_revenue           12.5\n",
       "avg_revenue_per_user    25.0\n",
       "dtype: float64"
      ]
     },
     "execution_count": 10,
     "metadata": {},
     "output_type": "execute_result"
    }
   ],
   "source": [
    "df['release_date'] = df['release_date'].fillna(df['release_date']).median()\n",
    "df['num_reviews'] = df['num_reviews'].fillna(df['num_reviews'].median())\n",
    "df['monthly_users'] = df['monthly_users'].fillna(df['monthly_users'].median())\n",
    "df.isna().mean() * 100"
   ]
  },
  {
   "cell_type": "code",
   "execution_count": 11,
   "id": "8375705e",
   "metadata": {},
   "outputs": [
    {
     "data": {
      "text/html": [
       "<div>\n",
       "<style scoped>\n",
       "    .dataframe tbody tr th:only-of-type {\n",
       "        vertical-align: middle;\n",
       "    }\n",
       "\n",
       "    .dataframe tbody tr th {\n",
       "        vertical-align: top;\n",
       "    }\n",
       "\n",
       "    .dataframe thead th {\n",
       "        text-align: right;\n",
       "    }\n",
       "</style>\n",
       "<table border=\"1\" class=\"dataframe\">\n",
       "  <thead>\n",
       "    <tr style=\"text-align: right;\">\n",
       "      <th></th>\n",
       "      <th>app_names</th>\n",
       "      <th>publishers</th>\n",
       "      <th>release_date</th>\n",
       "      <th>rating</th>\n",
       "      <th>num_reviews</th>\n",
       "      <th>installs</th>\n",
       "      <th>daily_users</th>\n",
       "      <th>monthly_users</th>\n",
       "      <th>avg_session_time</th>\n",
       "      <th>monthly_revenue</th>\n",
       "      <th>total_revenue</th>\n",
       "      <th>avg_revenue_per_user</th>\n",
       "    </tr>\n",
       "  </thead>\n",
       "  <tbody>\n",
       "    <tr>\n",
       "      <th>0</th>\n",
       "      <td>Zombie Tokyo</td>\n",
       "      <td>GY Games</td>\n",
       "      <td>2018-12-23 12:00:00</td>\n",
       "      <td>3.9</td>\n",
       "      <td>153.25</td>\n",
       "      <td>2.12</td>\n",
       "      <td>NaN</td>\n",
       "      <td>400.0</td>\n",
       "      <td>-90.0</td>\n",
       "      <td>NaN</td>\n",
       "      <td>45.0</td>\n",
       "      <td>-5000.0</td>\n",
       "    </tr>\n",
       "    <tr>\n",
       "      <th>1</th>\n",
       "      <td>Paladinia</td>\n",
       "      <td>VisiSoft</td>\n",
       "      <td>2018-12-23 12:00:00</td>\n",
       "      <td>4.1</td>\n",
       "      <td>73.40</td>\n",
       "      <td>1.45</td>\n",
       "      <td>112.5</td>\n",
       "      <td>550.0</td>\n",
       "      <td>115.0</td>\n",
       "      <td>1.2</td>\n",
       "      <td>65.0</td>\n",
       "      <td>NaN</td>\n",
       "    </tr>\n",
       "    <tr>\n",
       "      <th>2</th>\n",
       "      <td>Corn Kingdoms</td>\n",
       "      <td>GY Games</td>\n",
       "      <td>2018-12-23 12:00:00</td>\n",
       "      <td>3.8</td>\n",
       "      <td>56.35</td>\n",
       "      <td>3.45</td>\n",
       "      <td>225.0</td>\n",
       "      <td>850.0</td>\n",
       "      <td>35.0</td>\n",
       "      <td>3.2</td>\n",
       "      <td>120.0</td>\n",
       "      <td>45.0</td>\n",
       "    </tr>\n",
       "    <tr>\n",
       "      <th>3</th>\n",
       "      <td>Mistveiled</td>\n",
       "      <td>Kotaru</td>\n",
       "      <td>2018-12-23 12:00:00</td>\n",
       "      <td>4.5</td>\n",
       "      <td>73.40</td>\n",
       "      <td>2.45</td>\n",
       "      <td>75.0</td>\n",
       "      <td>387.5</td>\n",
       "      <td>70.0</td>\n",
       "      <td>0.6</td>\n",
       "      <td>18.0</td>\n",
       "      <td>8.0</td>\n",
       "    </tr>\n",
       "    <tr>\n",
       "      <th>4</th>\n",
       "      <td>Sakura Nights</td>\n",
       "      <td>VisiSoft</td>\n",
       "      <td>2018-12-23 12:00:00</td>\n",
       "      <td>4.8</td>\n",
       "      <td>230.02</td>\n",
       "      <td>1.35</td>\n",
       "      <td>185.0</td>\n",
       "      <td>375.0</td>\n",
       "      <td>50.0</td>\n",
       "      <td>2.4</td>\n",
       "      <td>325.0</td>\n",
       "      <td>125.0</td>\n",
       "    </tr>\n",
       "  </tbody>\n",
       "</table>\n",
       "</div>"
      ],
      "text/plain": [
       "       app_names publishers        release_date  rating  num_reviews  \\\n",
       "0   Zombie Tokyo   GY Games 2018-12-23 12:00:00     3.9       153.25   \n",
       "1      Paladinia   VisiSoft 2018-12-23 12:00:00     4.1        73.40   \n",
       "2  Corn Kingdoms   GY Games 2018-12-23 12:00:00     3.8        56.35   \n",
       "3     Mistveiled     Kotaru 2018-12-23 12:00:00     4.5        73.40   \n",
       "4  Sakura Nights   VisiSoft 2018-12-23 12:00:00     4.8       230.02   \n",
       "\n",
       "   installs  daily_users  monthly_users  avg_session_time  monthly_revenue  \\\n",
       "0      2.12          NaN          400.0             -90.0              NaN   \n",
       "1      1.45        112.5          550.0             115.0              1.2   \n",
       "2      3.45        225.0          850.0              35.0              3.2   \n",
       "3      2.45         75.0          387.5              70.0              0.6   \n",
       "4      1.35        185.0          375.0              50.0              2.4   \n",
       "\n",
       "   total_revenue  avg_revenue_per_user  \n",
       "0           45.0               -5000.0  \n",
       "1           65.0                   NaN  \n",
       "2          120.0                  45.0  \n",
       "3           18.0                   8.0  \n",
       "4          325.0                 125.0  "
      ]
     },
     "execution_count": 11,
     "metadata": {},
     "output_type": "execute_result"
    }
   ],
   "source": [
    "df.head()"
   ]
  },
  {
   "cell_type": "code",
   "execution_count": 12,
   "id": "d7c6543a",
   "metadata": {},
   "outputs": [
    {
     "name": "stdout",
     "output_type": "stream",
     "text": [
      "Correlation between rating and number of reviews: 0.5379538126011978\n"
     ]
    }
   ],
   "source": [
    "correlation = df['rating'].corr(df['num_reviews'])\n",
    "print(\"Correlation between rating and number of reviews:\", correlation)"
   ]
  },
  {
   "cell_type": "code",
   "execution_count": null,
   "id": "be447aae",
   "metadata": {},
   "outputs": [],
   "source": []
  }
 ],
 "metadata": {
  "kernelspec": {
   "display_name": "Python 3 (ipykernel)",
   "language": "python",
   "name": "python3"
  },
  "language_info": {
   "codemirror_mode": {
    "name": "ipython",
    "version": 3
   },
   "file_extension": ".py",
   "mimetype": "text/x-python",
   "name": "python",
   "nbconvert_exporter": "python",
   "pygments_lexer": "ipython3",
   "version": "3.11.5"
  }
 },
 "nbformat": 4,
 "nbformat_minor": 5
}
