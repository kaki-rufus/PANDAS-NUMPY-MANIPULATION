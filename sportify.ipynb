{
 "cells": [
  {
   "cell_type": "code",
   "execution_count": 1,
   "id": "44ea8c90",
   "metadata": {},
   "outputs": [
    {
     "name": "stdout",
     "output_type": "stream",
     "text": [
      "   Index                   Title             Artist            Top Genre  \\\n",
      "0      1                 Sunrise        Norah Jones      adult standards   \n",
      "1      2             Black Night        Deep Purple           album rock   \n",
      "2      3          Clint Eastwood           Gorillaz  alternative hip hop   \n",
      "3      4           The Pretender       Foo Fighters    alternative metal   \n",
      "4      5  Waitin' On A Sunny Day  Bruce Springsteen         classic rock   \n",
      "\n",
      "   Year  Beats Per Minute (BPM)  Energy  Danceability  Loudness (dB)  \\\n",
      "0  2004                     157      30            53            -14   \n",
      "1  2000                     135      79            50            -11   \n",
      "2  2001                     168      69            66             -9   \n",
      "3  2007                     173      96            43             -4   \n",
      "4  2002                     106      82            58             -5   \n",
      "\n",
      "   Liveness  Valence Length (Duration)  Acousticness  Speechiness  Popularity  \n",
      "0        11       68               201            94            3          71  \n",
      "1        17       81               207            17            7          39  \n",
      "2         7       52               341             2           17          69  \n",
      "3         3       37               269             0            4          76  \n",
      "4        10       87               256             1            3          59  \n",
      "<class 'pandas.core.frame.DataFrame'>\n",
      "RangeIndex: 1994 entries, 0 to 1993\n",
      "Data columns (total 15 columns):\n",
      " #   Column                  Non-Null Count  Dtype \n",
      "---  ------                  --------------  ----- \n",
      " 0   Index                   1994 non-null   int64 \n",
      " 1   Title                   1994 non-null   object\n",
      " 2   Artist                  1994 non-null   object\n",
      " 3   Top Genre               1994 non-null   object\n",
      " 4   Year                    1994 non-null   int64 \n",
      " 5   Beats Per Minute (BPM)  1994 non-null   int64 \n",
      " 6   Energy                  1994 non-null   int64 \n",
      " 7   Danceability            1994 non-null   int64 \n",
      " 8   Loudness (dB)           1994 non-null   int64 \n",
      " 9   Liveness                1994 non-null   int64 \n",
      " 10  Valence                 1994 non-null   int64 \n",
      " 11  Length (Duration)       1994 non-null   object\n",
      " 12  Acousticness            1994 non-null   int64 \n",
      " 13  Speechiness             1994 non-null   int64 \n",
      " 14  Popularity              1994 non-null   int64 \n",
      "dtypes: int64(11), object(4)\n",
      "memory usage: 233.8+ KB\n",
      "None\n",
      "Index(['Index', 'Title', 'Artist', 'Top Genre', 'Year',\n",
      "       'Beats Per Minute (BPM)', 'Energy', 'Danceability', 'Loudness (dB)',\n",
      "       'Liveness', 'Valence', 'Length (Duration)', 'Acousticness',\n",
      "       'Speechiness', 'Popularity'],\n",
      "      dtype='object')\n"
     ]
    }
   ],
   "source": [
    "import pandas as pd\n",
    "\n",
    "pd.set_option('display.max_rows', None)\n",
    "pd.set_option('display.max_columns', None)\n",
    "\n",
    "# Read the CSV file into a Pandas DataFrame\n",
    "df = pd.read_csv('Spotify_2000.csv')\n",
    "\n",
    "# Display the first 5 rows\n",
    "print(df.head())\n",
    "\n",
    "# Print the column names and their data types\n",
    "print(df.info())\n",
    "\n",
    "# Print the columns\n",
    "print(df.columns)"
   ]
  },
  {
   "cell_type": "code",
   "execution_count": 2,
   "id": "0bb01f1e",
   "metadata": {},
   "outputs": [
    {
     "name": "stdout",
     "output_type": "stream",
     "text": [
      "Year\n",
      "2000    119.151515\n",
      "2001    125.666667\n",
      "2002    116.489362\n",
      "2003    123.142857\n",
      "2004    120.933333\n",
      "2005    120.545455\n",
      "Name: Beats Per Minute (BPM), dtype: float64\n"
     ]
    }
   ],
   "source": [
    "# Filter the DataFrame to include songs between the years 2000 and 2005, inclusive\n",
    "df_filtered = df[(df['Year'] >= 2000) & (df['Year'] <= 2005)]\n",
    "\n",
    "# Group the DataFrame by the 'Year' column and calculate the average 'Beats Per Minute (BPM)'\n",
    "average_bpm_per_year = df_filtered.groupby('Year')['Beats Per Minute (BPM)'].mean()\n",
    "\n",
    "print(average_bpm_per_year)"
   ]
  },
  {
   "cell_type": "code",
   "execution_count": 3,
   "id": "e496254f",
   "metadata": {},
   "outputs": [
    {
     "name": "stdout",
     "output_type": "stream",
     "text": [
      "Year\n",
      "2000         NaN\n",
      "2001    5.467955\n",
      "2002   -7.302895\n",
      "2003    5.711676\n",
      "2004   -1.794277\n",
      "2005   -0.320738\n",
      "Name: Beats Per Minute (BPM), dtype: float64\n"
     ]
    }
   ],
   "source": [
    "# Calculate the year-over-year percentage change in the average BPM\n",
    "average_bpm_percentage_change = average_bpm_per_year.pct_change() * 100\n",
    "\n",
    "# Print the average BPM percentage change\n",
    "print(average_bpm_percentage_change)"
   ]
  },
  {
   "cell_type": "code",
   "execution_count": 4,
   "id": "1ed97a9e",
   "metadata": {},
   "outputs": [
    {
     "name": "stdout",
     "output_type": "stream",
     "text": [
      "Year with the highest increase in average BPM: 2003\n",
      "Year with the highest decrease in average BPM: 2002\n"
     ]
    }
   ],
   "source": [
    "# Find the year with the highest percentage increase in average BPM\n",
    "year_with_highest_bpm_increase = average_bpm_percentage_change.idxmax()\n",
    "\n",
    "# Find the year with the highest percentage decrease in average BPM\n",
    "year_with_highest_bpm_decrease = average_bpm_percentage_change.drop_duplicates().idxmin()\n",
    "\n",
    "print(f\"Year with the highest increase in average BPM: {year_with_highest_bpm_increase}\")\n",
    "print(f\"Year with the highest decrease in average BPM: {year_with_highest_bpm_decrease}\")"
   ]
  },
  {
   "cell_type": "code",
   "execution_count": 5,
   "id": "e37975c7",
   "metadata": {},
   "outputs": [
    {
     "name": "stdout",
     "output_type": "stream",
     "text": [
      "Highest BPM Song: Omarm by BLØF\n",
      "Lowest BPM Song: Zij by Marco Borsato\n"
     ]
    }
   ],
   "source": [
    "# Filter the DataFrame to include songs from the year with the highest increase in average BPM (2003)\n",
    "songs_from_highest_bpm_year = df_filtered[df_filtered['Year'] == year_with_highest_bpm_increase]\n",
    "\n",
    "# Find the song with the highest BPM in that year\n",
    "highest_bpm_song = songs_from_highest_bpm_year[songs_from_highest_bpm_year['Beats Per Minute (BPM)'] == songs_from_highest_bpm_year['Beats Per Minute (BPM)'].max()]\n",
    "\n",
    "# Store the song title and artist in separate variables\n",
    "highest_bpm_song_title = highest_bpm_song['Title'].tolist()[0]\n",
    "highest_bpm_artist = highest_bpm_song['Artist'].tolist()[0]\n",
    "\n",
    "# Filter the DataFrame to include songs from the year with the highest decrease in average BPM (2002)\n",
    "songs_from_lowest_bpm_year = df_filtered[df_filtered['Year'] == year_with_highest_bpm_decrease]\n",
    "\n",
    "# Find the song with the lowest BPM in that year\n",
    "lowest_bpm_song = songs_from_lowest_bpm_year[songs_from_lowest_bpm_year['Beats Per Minute (BPM)'] == songs_from_lowest_bpm_year['Beats Per Minute (BPM)'].min()]\n",
    "\n",
    "# Store the song title and artist in separate variables\n",
    "lowest_bpm_song_title = lowest_bpm_song['Title'].tolist()[0]\n",
    "lowest_bpm_artist = lowest_bpm_song['Artist'].tolist()[0]\n",
    "\n",
    "# Print the song titles and artists for the highest and lowest BPM songs\n",
    "print(f\"Highest BPM Song: {highest_bpm_song_title} by {highest_bpm_artist}\")\n",
    "print(f\"Lowest BPM Song: {lowest_bpm_song_title} by {lowest_bpm_artist}\")"
   ]
  },
  {
   "cell_type": "code",
   "execution_count": 6,
   "id": "beaed64c",
   "metadata": {},
   "outputs": [
    {
     "name": "stdout",
     "output_type": "stream",
     "text": [
      "Year with the highest average danceability score: 2005\n",
      "Year with the lowest average danceability score: 2001\n"
     ]
    }
   ],
   "source": [
    "# Filter the DataFrame to include songs in the \"alternative hip hop\" genre\n",
    "df_filtered_alt_hip_hop = df[df['Top Genre'] == 'alternative hip hop']\n",
    "\n",
    "# Group the DataFrame by the 'Year' column and calculate the average 'Danceability' score\n",
    "average_danceability_per_year = df_filtered_alt_hip_hop.groupby('Year')['Danceability'].mean()\n",
    "\n",
    "# Find the year with the highest average danceability score\n",
    "year_with_highest_danceability = average_danceability_per_year.idxmax()\n",
    "\n",
    "# Find the year with the lowest average danceability score\n",
    "year_with_lowest_danceability = average_danceability_per_year.idxmin()\n",
    "\n",
    "# Print the years with the highest and lowest average danceability scores\n",
    "print(f\"Year with the highest average danceability score: {year_with_highest_danceability}\")\n",
    "print(f\"Year with the lowest average danceability score: {year_with_lowest_danceability}\")"
   ]
  },
  {
   "cell_type": "code",
   "execution_count": 8,
   "id": "9505602f",
   "metadata": {},
   "outputs": [
    {
     "data": {
      "text/plain": [
       "{'avg_bpm_per_year': Year\n",
       " 2000    119.151515\n",
       " 2001    125.666667\n",
       " 2002    116.489362\n",
       " 2003    123.142857\n",
       " 2004    120.933333\n",
       " 2005    120.545455\n",
       " Name: Beats Per Minute (BPM), dtype: float64,\n",
       " 'bpm_percentage_change': Year\n",
       " 2000         NaN\n",
       " 2001    5.467955\n",
       " 2002   -7.302895\n",
       " 2003    5.711676\n",
       " 2004   -1.794277\n",
       " 2005   -0.320738\n",
       " Name: Beats Per Minute (BPM), dtype: float64,\n",
       " 'year_highest_increase': 2003,\n",
       " 'year_highest_decrease': 2002,\n",
       " 'highest_bpm_song_year_increase':      Index  Title Artist  Top Genre  Year  Beats Per Minute (BPM)  Energy  \\\n",
       " 266    267  Omarm   BLØF  dutch pop  2003                     184      44   \n",
       " \n",
       "      Danceability  Loudness (dB)  Liveness  Valence Length (Duration)  \\\n",
       " 266            27             -9        10        8               252   \n",
       " \n",
       "      Acousticness  Speechiness  Popularity  \n",
       " 266            41            3          46  ,\n",
       " 'lowest_bpm_song_year_decrease':      Index Title         Artist      Top Genre  Year  Beats Per Minute (BPM)  \\\n",
       " 133    134   Zij  Marco Borsato  dutch cabaret  2002                      58   \n",
       " \n",
       "      Energy  Danceability  Loudness (dB)  Liveness  Valence Length (Duration)  \\\n",
       " 133      40            25             -9         9       11               245   \n",
       " \n",
       "      Acousticness  Speechiness  Popularity  \n",
       " 133            45            4          52  ,\n",
       " 'avg_danceability_per_year': Year\n",
       " 2001    66.0\n",
       " 2005    82.0\n",
       " Name: Danceability, dtype: float64,\n",
       " 'year_highest_danceability': 2005,\n",
       " 'year_lowest_danceability': 2001}"
      ]
     },
     "execution_count": 8,
     "metadata": {},
     "output_type": "execute_result"
    }
   ],
   "source": [
    "                      filtered_data = df[df['Year'].between(2000, 2005)]\n",
    "\n",
    "# Calculating the average BPM for each year\n",
    "avg_bpm_per_year = filtered_data.groupby('Year')['Beats Per Minute (BPM)'].mean()\n",
    "\n",
    "# Calculating year-over-year percentage change in average BPM\n",
    "bpm_percentage_change = avg_bpm_per_year.pct_change() * 100\n",
    "\n",
    "# Identifying the year with the highest increase and highest decrease in BPM\n",
    "year_highest_increase = bpm_percentage_change.idxmax()\n",
    "year_highest_decrease = bpm_percentage_change.idxmin()\n",
    "\n",
    "# Finding the song with the highest BPM for the year with highest increase\n",
    "highest_bpm_song_year_increase = filtered_data[filtered_data['Year'] == year_highest_increase].nlargest(1, 'Beats Per Minute (BPM)')\n",
    "\n",
    "# Finding the song with the lowest BPM for the year with highest decrease\n",
    "lowest_bpm_song_year_decrease = filtered_data[filtered_data['Year'] == year_highest_decrease].nsmallest(1, 'Beats Per Minute (BPM)')\n",
    "\n",
    "# Calculating the average danceability score for songs in the \"alternative hip hop\" genre for each year\n",
    "alt_hip_hop_data = filtered_data[filtered_data['Top Genre'] == 'alternative hip hop']\n",
    "avg_danceability_per_year = alt_hip_hop_data.groupby('Year')['Danceability'].mean()\n",
    "\n",
    "# Identifying the year with the highest and lowest average danceability score\n",
    "year_highest_danceability = avg_danceability_per_year.idxmax()\n",
    "year_lowest_danceability = avg_danceability_per_year.idxmin()\n",
    "\n",
    "{\n",
    "    \"avg_bpm_per_year\": avg_bpm_per_year,\n",
    "    \"bpm_percentage_change\": bpm_percentage_change,\n",
    "    \"year_highest_increase\": year_highest_increase,\n",
    "    \"year_highest_decrease\": year_highest_decrease,\n",
    "    \"highest_bpm_song_year_increase\": highest_bpm_song_year_increase,\n",
    "    \"lowest_bpm_song_year_decrease\": lowest_bpm_song_year_decrease,\n",
    "    \"avg_danceability_per_year\": avg_danceability_per_year,\n",
    "    \"year_highest_danceability\": year_highest_danceability,\n",
    "    \"year_lowest_danceability\": year_lowest_danceability\n",
    "}\n",
    "       "
   ]
  },
  {
   "cell_type": "code",
   "execution_count": null,
   "id": "ab69616c",
   "metadata": {},
   "outputs": [],
   "source": []
  }
 ],
 "metadata": {
  "kernelspec": {
   "display_name": "Python 3 (ipykernel)",
   "language": "python",
   "name": "python3"
  },
  "language_info": {
   "codemirror_mode": {
    "name": "ipython",
    "version": 3
   },
   "file_extension": ".py",
   "mimetype": "text/x-python",
   "name": "python",
   "nbconvert_exporter": "python",
   "pygments_lexer": "ipython3",
   "version": "3.11.5"
  }
 },
 "nbformat": 4,
 "nbformat_minor": 5
}
